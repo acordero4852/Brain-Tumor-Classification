{
 "cells": [
  {
   "cell_type": "code",
   "execution_count": null,
   "metadata": {
    "id": "AQzBXqaxj4vE"
   },
   "outputs": [],
   "source": [
    "import os\n",
    "import pandas as pd\n",
    "import numpy as np\n",
    "import matplotlib.pyplot as plt\n",
    "import seaborn as sns"
   ]
  },
  {
   "cell_type": "code",
   "execution_count": null,
   "metadata": {
    "colab": {
     "base_uri": "https://localhost:8080/"
    },
    "id": "EB2tOOlfj-dj",
    "outputId": "5b42f6bd-3726-4f0f-e0eb-318732b2be9f"
   },
   "outputs": [],
   "source": [
    "! kaggle datasets download -d masoudnickparvar/brain-tumor-mri-dataset --unzip"
   ]
  },
  {
   "cell_type": "code",
   "execution_count": null,
   "metadata": {
    "id": "kW_FVtx-kWkZ"
   },
   "outputs": [],
   "source": [
    "def get_class_paths(path):\n",
    "    classes = []\n",
    "    class_paths = []\n",
    "\n",
    "    for label in os.listdir(path):\n",
    "        label_path = os.path.join(path, label)\n",
    "\n",
    "        if os.path.isdir(label_path):\n",
    "\n",
    "            for image in os.listdir(label_path):\n",
    "                image_path = os.path.join(label_path, image)\n",
    "\n",
    "                classes.append(label)\n",
    "                class_paths.append(image_path)\n",
    "\n",
    "    df = pd.DataFrame({'Class Path': class_paths, 'Class': classes})\n",
    "\n",
    "    return df"
   ]
  },
  {
   "cell_type": "code",
   "execution_count": null,
   "metadata": {
    "id": "4pNilE0lmA68"
   },
   "outputs": [],
   "source": [
    "tr_df = get_class_paths(\"./Testing\")"
   ]
  },
  {
   "cell_type": "code",
   "execution_count": null,
   "metadata": {
    "colab": {
     "base_uri": "https://localhost:8080/",
     "height": 424
    },
    "id": "C1dU0V00mfxX",
    "outputId": "ae90ac94-439c-4121-e36b-bc6d9823260e"
   },
   "outputs": [],
   "source": [
    "tr_df"
   ]
  },
  {
   "cell_type": "code",
   "execution_count": null,
   "metadata": {
    "id": "CbzwmDmrmh-B"
   },
   "outputs": [],
   "source": [
    "ts_df = get_class_paths(\"./Testing\")"
   ]
  },
  {
   "cell_type": "code",
   "execution_count": null,
   "metadata": {
    "colab": {
     "base_uri": "https://localhost:8080/",
     "height": 424
    },
    "id": "zHpefiFRmufu",
    "outputId": "7e5fa34b-a3c5-41ff-e596-a12986f408a8"
   },
   "outputs": [],
   "source": [
    "ts_df"
   ]
  },
  {
   "cell_type": "code",
   "execution_count": null,
   "metadata": {
    "colab": {
     "base_uri": "https://localhost:8080/",
     "height": 619
    },
    "id": "7Z1khxH_mxFW",
    "outputId": "e4e51dcc-46fd-4d85-f064-da454199b090"
   },
   "outputs": [],
   "source": [
    "plt.figure(figsize=(15,7))\n",
    "ax = sns.countplot(data=tr_df, x=tr_df['Class'])"
   ]
  },
  {
   "cell_type": "code",
   "execution_count": null,
   "metadata": {
    "colab": {
     "base_uri": "https://localhost:8080/",
     "height": 619
    },
    "id": "dSzj9zgLnlI9",
    "outputId": "a1144667-a782-46be-ba2d-c68727e95c92"
   },
   "outputs": [],
   "source": [
    "plt.figure(figsize=(15,7))\n",
    "ax = sns.countplot(data=ts_df, x=ts_df['Class'])"
   ]
  },
  {
   "cell_type": "code",
   "execution_count": null,
   "metadata": {
    "id": "xUNUYqwh33Y8"
   },
   "outputs": [],
   "source": [
    "from sklearn.model_selection import train_test_split\n",
    "from sklearn.metrics import classification_report, confusion_matrix\n",
    "import tensorflow as tf\n",
    "from tensorflow.keras.models import Sequential\n",
    "from tensorflow.keras.layers import Dense, Dropout, Flatten\n",
    "from tensorflow.keras.optimizers import Adamax\n",
    "from tensorflow.keras.metrics import Precision, Recall\n",
    "from tensorflow.keras.preprocessing.image import ImageDataGenerator"
   ]
  },
  {
   "cell_type": "code",
   "execution_count": null,
   "metadata": {
    "id": "srWUSfIK3T7m"
   },
   "outputs": [],
   "source": [
    "valid_df, ts_df = train_test_split(ts_df, train_size=0.5, stratify=ts_df['Class'])"
   ]
  },
  {
   "cell_type": "code",
   "execution_count": null,
   "metadata": {
    "colab": {
     "base_uri": "https://localhost:8080/",
     "height": 424
    },
    "id": "dh_lwxdQ37T5",
    "outputId": "a6dcc553-95ea-4daf-c277-c0f1a369c71d"
   },
   "outputs": [],
   "source": [
    "valid_df"
   ]
  },
  {
   "cell_type": "code",
   "execution_count": null,
   "metadata": {
    "colab": {
     "base_uri": "https://localhost:8080/",
     "height": 424
    },
    "id": "WvGBD7sP3_wh",
    "outputId": "8a616573-e73c-476d-ee3a-e5eb02d18ff5"
   },
   "outputs": [],
   "source": [
    "ts_df"
   ]
  },
  {
   "cell_type": "code",
   "execution_count": null,
   "metadata": {
    "id": "P8JZPmCU4C_8"
   },
   "outputs": [],
   "source": [
    "batch_size = 32\n",
    "\n",
    "img_size = (299, 299)\n",
    "\n",
    "image_generator = ImageDataGenerator(rescale=1/255, brightness_range=(0.8, 1.2))\n",
    "\n",
    "ts_gen = ImageDataGenerator(rescale=1/255)"
   ]
  },
  {
   "cell_type": "code",
   "execution_count": null,
   "metadata": {
    "colab": {
     "base_uri": "https://localhost:8080/"
    },
    "id": "ccy4jrGe4yXj",
    "outputId": "93408f46-1695-4183-ae4e-ecbfe779a610"
   },
   "outputs": [],
   "source": [
    "tr_gen = image_generator.flow_from_dataframe(tr_df, x_col='Class Path',\n",
    "                                             y_col='Class',\n",
    "                                             batch_size=batch_size,\n",
    "                                             target_size=img_size)\n",
    "\n",
    "valid_gen = image_generator.flow_from_dataframe(valid_df, x_col='Class Path',\n",
    "                                             y_col='Class',\n",
    "                                             batch_size=batch_size,\n",
    "                                             target_size=img_size)\n",
    "\n",
    "ts_gen = ts_gen.flow_from_dataframe(ts_df, x_col='Class Path',\n",
    "                                             y_col='Class',\n",
    "                                             batch_size=16,\n",
    "                                             target_size=img_size, shuffle=False)"
   ]
  },
  {
   "cell_type": "code",
   "execution_count": null,
   "metadata": {
    "colab": {
     "background_save": true
    },
    "id": "CzLPZVEl5jQX",
    "outputId": "a6fd6c50-4707-44fe-8d6a-e52decfed2a3"
   },
   "outputs": [],
   "source": [
    "plt.figure(figsize=(20,20))\n",
    "for i in range(16):\n",
    "    plt.subplot(4, 4, i+1)\n",
    "    batch = next(tr_gen)\n",
    "    image = batch[0][0]\n",
    "    label = batch[1][0]\n",
    "    plt.imshow(image)\n",
    "\n",
    "    class_index = np.argmax(label)\n",
    "\n",
    "    class_names = list(tr_gen.class_indices.keys())\n",
    "    class_indices = list(tr_gen.class_indices.values())\n",
    "\n",
    "    index_position = class_indices.index(class_index)\n",
    "\n",
    "    class_name = class_names[index_position]\n",
    "\n",
    "    plt.title(f\"Class: {class_name}\")\n",
    "    plt.axis('off')\n",
    "\n",
    "plt.tight_layout()\n",
    "plt.show()\n"
   ]
  },
  {
   "cell_type": "code",
   "execution_count": null,
   "metadata": {
    "id": "JgEp-eBs7Cgw"
   },
   "outputs": [],
   "source": [
    "img_shape = (299, 299, 3)\n",
    "\n",
    "base_model = tf.keras.applications.Xception(include_top=False,\n",
    "                                            weights='imagenet',\n",
    "                                            input_shape=img_shape,\n",
    "                                            pooling='max')\n",
    "\n",
    "model = Sequential([\n",
    "    base_model,\n",
    "    Flatten(),\n",
    "    Dropout(rate=0.3),\n",
    "    Dense(128, activation='relu'),\n",
    "    Dropout(rate=0.25),\n",
    "    Dense(4, activation='softmax')\n",
    "])"
   ]
  },
  {
   "cell_type": "code",
   "execution_count": null,
   "metadata": {
    "id": "NfefRIO0dqWt"
   },
   "outputs": [],
   "source": [
    "model.compile(Adamax(learning_rate=0.001),\n",
    "              loss='categorical_crossentropy',\n",
    "              metrics=['accuracy',\n",
    "              Precision(),\n",
    "              Recall()])"
   ]
  },
  {
   "cell_type": "code",
   "execution_count": null,
   "metadata": {
    "colab": {
     "base_uri": "https://localhost:8080/"
    },
    "id": "rgg7Woz-fbN2",
    "outputId": "7ca662d8-5147-4b5e-d45a-fede52b5e837"
   },
   "outputs": [],
   "source": [
    "hist = model.fit(tr_gen, epochs=5, validation_data=valid_gen)"
   ]
  },
  {
   "cell_type": "code",
   "execution_count": null,
   "metadata": {
    "id": "ANlyCs-tj8x4"
   },
   "outputs": [],
   "source": [
    "metrics = ['accuracy', 'loss', 'precision', 'recall']\n",
    "tr_metrics = {m: hist.history[m] for m in metrics}\n",
    "val_metrics = {m: hist.history[f'val_{m}'] for m in metrics}\n",
    "\n",
    "best_epochs = {}\n",
    "best_values = {}\n",
    "for m in metrics:\n",
    "    if m == 'loss':\n",
    "        idx = np.argmin(val_metrics[m])\n",
    "    else:\n",
    "        idx = np.argmax(val_metrics[m])\n",
    "    best_epochs[m] = idx + 1\n",
    "    best_values[m] = val_metrics[m][idx]\n",
    "\n",
    "plt.figure(figsize=(20, 12))\n",
    "plt.style.use('fivethirtyeight')\n",
    "\n",
    "for i, metric in enumerate(metrics, 1):\n",
    "    plt.subplot(2, 2, i)\n",
    "    epochs = range(1, len(tr_metrics[metric]) + 1)\n",
    "\n",
    "    plt.plot(epochs, tr_metrics[metric], 'r', label=f'Training {metric}')\n",
    "    plt.plot(epochs, val_metrics[metric], 'g', label=f'Validation {metric}')\n",
    "    plt.scatter(best_epochs[metric], best_values[metric], s=150, c='blue',\n",
    "                label=f'Best epoch = {best_epochs[metric]}')\n",
    "\n",
    "    plt.title(f'Training and Validation {metric.title()}')\n",
    "    plt.xlabel('Epochs')\n",
    "    plt.ylabel(metric.title())\n",
    "    plt.legend()\n",
    "    plt.grid(True)\n",
    "\n",
    "plt.suptitle('Training and Validation Metrics', fontsize=16)\n",
    "plt.tight_layout()"
   ]
  },
  {
   "cell_type": "code",
   "execution_count": null,
   "metadata": {
    "id": "EPorAxOgnJB7"
   },
   "outputs": [],
   "source": [
    "train_score = model.evaluate(tr_gen, verbose=1)\n",
    "valid_score = model.evaluate(valid_gen, verbose=1)\n",
    "test_score = model.evaluate(ts_gen, verbose=1)\n",
    "\n",
    "print(f\"Train Accuracy: {train_score[1]*100:.2f}%\")\n",
    "print(f\"Train Loss: {train_score[0]:.4f}\")\n",
    "print(f\"\\n\\nValidation Accuracy: {valid_score[1]*100:.2f}%\")\n",
    "print(f\"Validation Loss: {valid_score[0]:.4f}\")\n",
    "print(f\"\\n\\nTest Accuracy: {test_score[1]*100:.2f}%\")\n",
    "print(f\"Test Loss: {test_score[0]:.4f}\")"
   ]
  },
  {
   "cell_type": "code",
   "execution_count": null,
   "metadata": {
    "id": "uN_opd_Fn8fj"
   },
   "outputs": [],
   "source": [
    "preds = model.predict(ts_gen)\n",
    "y_pred = np.argmax(preds, axis=1)\n",
    "\n",
    "class_dict = {\n",
    "    0: 'glioma',\n",
    "    1: 'meningioma',\n",
    "    2: 'no_tumor',\n",
    "    3: 'pituitary'\n",
    "}\n",
    "\n",
    "cm = confusion_matrix(ts_gen.classes, y_pred)\n",
    "labels = list(class_dict.keys())\n",
    "plt.figure(figsize=(10, 8))\n",
    "sns.heatmap(cm, annot=True, fmt='d', cmap='Blues', xticklabels=labels, yticklabels=labels)\n",
    "plt.xlabel('Predicted Label')\n",
    "plt.ylabel('True Label')\n",
    "plt.title('Confusion Matrix')\n",
    "plt.show()"
   ]
  },
  {
   "cell_type": "code",
   "execution_count": null,
   "metadata": {
    "id": "k2NMkRZJo_SG"
   },
   "outputs": [],
   "source": [
    "from PIL import Image\n",
    "\n",
    "def predict(img_path: str) -> None:\n",
    "    labels = list(class_dict.keys())\n",
    "\n",
    "    plt.figure(figsize=(6, 8))\n",
    "\n",
    "    img = Image.open(img_path)\n",
    "    resized_img = img.resize((299, 299))\n",
    "    img_array = np.asarray(resized_img)\n",
    "    img_array = np.expand_dims(img_array, axis=0) / 255.0\n",
    "\n",
    "    predictions = model.predict(img_array)\n",
    "    probabilities = list(predictions[0])\n",
    "\n",
    "    predicted_class_idx = np.argmax(predictions)\n",
    "    predicted_class = class_dict[predicted_class_idx]\n",
    "\n",
    "    plt.subplot(2, 1, 1)\n",
    "    plt.imshow(resized_img)\n",
    "    plt.title(f\"Input MRI Image\\nPredicted Class: {predicted_class}\")\n",
    "\n",
    "    plt.subplot(2, 1, 2)\n",
    "    bars = plt.barh(labels, probabilities)\n",
    "    plt.xlabel('Probability', fontsize=15)\n",
    "    plt.title('Class Probabilities')\n",
    "\n",
    "    ax = plt.gca()\n",
    "    ax.bar_label(bars, fmt=\"%.2f\")\n",
    "\n",
    "    plt.tight_layout()\n",
    "    plt.show()\n",
    "\n",
    "    print(f\"\\n\\nPredicted tumor type: {predicted_class}\")"
   ]
  },
  {
   "cell_type": "code",
   "execution_count": null,
   "metadata": {
    "id": "fUH-TWppuXKd"
   },
   "outputs": [],
   "source": [
    "predict(\"./Testing/meningioma/Te-meTr_0000.jpg\")"
   ]
  },
  {
   "cell_type": "code",
   "execution_count": null,
   "metadata": {
    "id": "dlYKSQp6usUB"
   },
   "outputs": [],
   "source": [
    "predict(\"./Testing/meningioma/Te-meTr_0005.jpg\")"
   ]
  },
  {
   "cell_type": "code",
   "execution_count": null,
   "metadata": {
    "id": "-j2cH_gTvgTB"
   },
   "outputs": [],
   "source": [
    "predict(\"./Testing/glioma/Te-glTr_0000.jpg\")"
   ]
  },
  {
   "cell_type": "code",
   "execution_count": null,
   "metadata": {
    "id": "o_USkeg6xxa5"
   },
   "outputs": [],
   "source": [
    "model.save_weights(\"../models/xception_model.weights.h5\")"
   ]
  },
  {
   "cell_type": "code",
   "execution_count": null,
   "metadata": {
    "id": "txW_AncjCdZo"
   },
   "outputs": [],
   "source": [
    "from tensorflow.keras.layers import Conv2D, MaxPooling2D\n",
    "from tensorflow.keras import regularizers"
   ]
  },
  {
   "cell_type": "code",
   "execution_count": null,
   "metadata": {
    "id": "uYvhsJeQyOmz"
   },
   "outputs": [],
   "source": [
    "batch_size = 16\n",
    "\n",
    "img = (224, 224)\n",
    "\n",
    "image_generator = ImageDataGenerator(rescale=1/255, brightness_range=(0.8, 1.2))\n",
    "\n",
    "ts_gen = ImageDataGenerator(rescale=1/255)\n",
    "\n",
    "tr_gen = image_generator.flow_from_dataframe(tr_df, x_col='Class Path',\n",
    "                                             y_col='Class',\n",
    "                                             batch_size=batch_size,\n",
    "                                             target_size=img)\n",
    "\n",
    "valid_gen = image_generator.flow_from_dataframe(valid_df, x_col='Class Path',\n",
    "                                             y_col='Class',\n",
    "                                             batch_size=batch_size,\n",
    "                                             target_size=img)\n",
    "\n",
    "ts_gen = ts_gen.flow_from_dataframe(ts_df, x_col='Class Path',\n",
    "                                             y_col='Class',\n",
    "                                             batch_size=batch_size,\n",
    "                                             target_size=img, shuffle=False)"
   ]
  },
  {
   "cell_type": "code",
   "execution_count": null,
   "metadata": {
    "id": "jPXluih6NUSN"
   },
   "outputs": [],
   "source": [
    "cnn_model = Sequential()\n",
    "\n",
    "cnn_model.add(Conv2D(512, (3, 3), padding='same', input_shape=(224, 224, 3), activation='relu'))\n",
    "cnn_model.add(MaxPooling2D(pool_size=(2, 2)))\n",
    "\n",
    "cnn_model.add(Conv2D(256, (3, 3), padding='same', activation='relu'))\n",
    "cnn_model.add(MaxPooling2D(pool_size=(2, 2)))\n",
    "cnn_model.add(Dropout(0.25))\n",
    "\n",
    "cnn_model.add(Conv2D(128, (3, 3), padding='same', activation='relu'))\n",
    "cnn_model.add(MaxPooling2D(pool_size=(2, 2)))\n",
    "cnn_model.add(Dropout(0.25))\n",
    "\n",
    "cnn_model.add(Conv2D(64, (3, 3), padding='same', activation='relu'))\n",
    "cnn_model.add(MaxPooling2D(pool_size=(2, 2)))\n",
    "\n",
    "cnn_model.add(Flatten())\n",
    "\n",
    "cnn_model.add(Dense(256, activation='relu', kernel_regularizer=regularizers.l2(0.01)))\n",
    "cnn_model.add(Dropout(0.35))\n",
    "\n",
    "cnn_model.add(Dense(4, activation='softmax'))\n",
    "\n",
    "cnn_model.compile(Adamax(learning_rate=0.001), loss='categorical_crossentropy', metrics=['accuracy', Precision(), Recall()])\n",
    "\n",
    "cnn_model.summary()"
   ]
  },
  {
   "cell_type": "code",
   "execution_count": null,
   "metadata": {
    "id": "u_SmuUt9Shyx"
   },
   "outputs": [],
   "source": [
    "history = cnn_model.fit(tr_gen, epochs=5, validation_data=valid_gen)"
   ]
  },
  {
   "cell_type": "code",
   "execution_count": null,
   "metadata": {
    "id": "DumoMyuYTM6B"
   },
   "outputs": [],
   "source": [
    "metric = ['accuracy', 'loss', 'precision_1', 'recall_1']\n",
    "\n",
    "tr_metrics = {m: history.history[m] for m in metric}\n",
    "val_metrics = {m: history.history[f'val_{m}'] for m in metric}\n",
    "\n",
    "best_epochs = {}\n",
    "best_values = {}\n",
    "for m in metric:\n",
    "    if m == 'loss':\n",
    "        idx = np.argmin(val_metrics[m])\n",
    "    else:\n",
    "        idx = np.argmax(val_metrics[m])\n",
    "    best_epochs[m] = idx + 1\n",
    "    best_values[m] = val_metrics[m][idx]\n",
    "\n",
    "plt.figure(figsize=(20, 12))\n",
    "plt.style.use('fivethirtyeight')\n",
    "\n",
    "for i, metric in enumerate(metric, 1):\n",
    "    plt.subplot(2, 2, i)\n",
    "    epochs = range(1, len(tr_metrics[metric]) + 1)\n",
    "\n",
    "    plt.plot(epochs, tr_metrics[metric], 'r', label=f'Training {metric}')\n",
    "    plt.plot(epochs, val_metrics[metric], 'g', label=f'Validation {metric}')\n",
    "    plt.scatter(best_epochs[metric], best_values[metric], s=150, c='blue',\n",
    "                label=f'Best epoch = {best_epochs[metric]}')\n",
    "\n",
    "    plt.title(f'Training and Validation {metric.title()}')\n",
    "    plt.xlabel('Epochs')\n",
    "    plt.ylabel(metric.title())\n",
    "    plt.legend()\n",
    "    plt.grid(True)\n",
    "\n",
    "plt.suptitle('Model Training Metrics Over Epochs', fontsize=16)\n",
    "plt.tight_layout()"
   ]
  },
  {
   "cell_type": "code",
   "execution_count": null,
   "metadata": {
    "id": "u-YBiQDabx9-"
   },
   "outputs": [],
   "source": [
    "train_score = cnn_model.evaluate(tr_gen, verbose=1)\n",
    "valid_score = cnn_model.evaluate(valid_gen, verbose=1)\n",
    "test_score = cnn_model.evaluate(ts_gen, verbose=1)\n",
    "\n",
    "print(f\"Train Accuracy: {train_score[1]*100:.2f}%\")\n",
    "print(f\"Train Loss: {train_score[0]:.4f}\")\n",
    "print(f\"\\n\\nValidation Accuracy: {valid_score[1]*100:.2f}%\")\n",
    "print(f\"Validation Loss: {valid_score[0]:.4f}\")\n",
    "print(f\"\\n\\nTest Accuracy: {test_score[1]*100:.2f}%\")\n",
    "print(f\"Test Loss: {test_score[0]:.4f}\")"
   ]
  },
  {
   "cell_type": "code",
   "execution_count": null,
   "metadata": {
    "id": "WZzvYAoVp3wc"
   },
   "outputs": [],
   "source": [
    "preds = cnn_model.predict(ts_gen)\n",
    "y_pred = np.argmax(preds, axis=1)\n",
    "\n",
    "class_dict = {\n",
    "    0: 'glioma',\n",
    "    1: 'meningioma',\n",
    "    2: 'no_tumor',\n",
    "    3: 'pituitary'\n",
    "}\n",
    "\n",
    "cm = confusion_matrix(ts_gen.classes, y_pred)\n",
    "labels = list(class_dict.keys())\n",
    "plt.figure(figsize=(10, 8))\n",
    "sns.heatmap(cm, annot=True, fmt='d', cmap='Blues', xticklabels=labels, yticklabels=labels)\n",
    "plt.xlabel('Predicted Label')\n",
    "plt.ylabel('True Label')\n",
    "plt.title('Confusion Matrix')\n",
    "plt.show()"
   ]
  },
  {
   "cell_type": "code",
   "execution_count": null,
   "metadata": {
    "id": "xJ_TSaHCqRx8"
   },
   "outputs": [],
   "source": [
    "clr = classification_report(ts_gen.classes, y_pred)\n",
    "print(clr)"
   ]
  },
  {
   "cell_type": "code",
   "execution_count": null,
   "metadata": {
    "id": "v8pQzLavrShn"
   },
   "outputs": [],
   "source": [
    "cnn_model.save(\"../models/cnn_model.h5\")"
   ]
  }
 ],
 "metadata": {
  "accelerator": "GPU",
  "colab": {
   "gpuType": "T4",
   "provenance": []
  },
  "kernelspec": {
   "display_name": "venv",
   "language": "python",
   "name": "python3"
  },
  "language_info": {
   "codemirror_mode": {
    "name": "ipython",
    "version": 3
   },
   "file_extension": ".py",
   "mimetype": "text/x-python",
   "name": "python",
   "nbconvert_exporter": "python",
   "pygments_lexer": "ipython3",
   "version": "3.10.4"
  }
 },
 "nbformat": 4,
 "nbformat_minor": 0
}
